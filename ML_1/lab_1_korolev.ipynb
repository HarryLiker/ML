{
 "cells": [
  {
   "cell_type": "code",
   "execution_count": 1,
   "metadata": {},
   "outputs": [],
   "source": [
    "import pandas as pd\n",
    "import numpy as np\n",
    "import matplotlib.pyplot as plt\n",
    "\n",
    "from sklearn.preprocessing import normalize\n",
    "from sklearn.model_selection import train_test_split, GridSearchCV\n",
    "from sklearn.base import BaseEstimator, ClassifierMixin\n",
    "from sklearn.metrics import euclidean_distances, accuracy_score, confusion_matrix, precision_score, recall_score, roc_auc_score, RocCurveDisplay, ConfusionMatrixDisplay\n",
    "from sklearn.utils.validation import check_X_y, check_is_fitted\n",
    "from sklearn.pipeline import Pipeline\n",
    "\n",
    "from sklearn.linear_model import LogisticRegression\n",
    "from sklearn.neighbors import KNeighborsClassifier\n",
    "from sklearn.naive_bayes import GaussianNB\n",
    "from sklearn.svm import SVC\n",
    "\n",
    "import pickle\n",
    "\n",
    "import warnings\n",
    "warnings.simplefilter(action = \"ignore\", category = RuntimeWarning)"
   ]
  },
  {
   "cell_type": "code",
   "execution_count": 2,
   "metadata": {},
   "outputs": [],
   "source": [
    "data = pd.read_csv('heart.csv')"
   ]
  },
  {
   "cell_type": "code",
   "execution_count": 3,
   "metadata": {},
   "outputs": [
    {
     "data": {
      "text/html": [
       "<div>\n",
       "<style scoped>\n",
       "    .dataframe tbody tr th:only-of-type {\n",
       "        vertical-align: middle;\n",
       "    }\n",
       "\n",
       "    .dataframe tbody tr th {\n",
       "        vertical-align: top;\n",
       "    }\n",
       "\n",
       "    .dataframe thead th {\n",
       "        text-align: right;\n",
       "    }\n",
       "</style>\n",
       "<table border=\"1\" class=\"dataframe\">\n",
       "  <thead>\n",
       "    <tr style=\"text-align: right;\">\n",
       "      <th></th>\n",
       "      <th>Age</th>\n",
       "      <th>Sex</th>\n",
       "      <th>ChestPainType</th>\n",
       "      <th>RestingBP</th>\n",
       "      <th>Cholesterol</th>\n",
       "      <th>FastingBS</th>\n",
       "      <th>RestingECG</th>\n",
       "      <th>MaxHR</th>\n",
       "      <th>ExerciseAngina</th>\n",
       "      <th>Oldpeak</th>\n",
       "      <th>ST_Slope</th>\n",
       "      <th>HeartDisease</th>\n",
       "    </tr>\n",
       "  </thead>\n",
       "  <tbody>\n",
       "    <tr>\n",
       "      <th>0</th>\n",
       "      <td>40</td>\n",
       "      <td>M</td>\n",
       "      <td>ATA</td>\n",
       "      <td>140</td>\n",
       "      <td>289</td>\n",
       "      <td>0</td>\n",
       "      <td>Normal</td>\n",
       "      <td>172</td>\n",
       "      <td>N</td>\n",
       "      <td>0.0</td>\n",
       "      <td>Up</td>\n",
       "      <td>0</td>\n",
       "    </tr>\n",
       "    <tr>\n",
       "      <th>1</th>\n",
       "      <td>49</td>\n",
       "      <td>F</td>\n",
       "      <td>NAP</td>\n",
       "      <td>160</td>\n",
       "      <td>180</td>\n",
       "      <td>0</td>\n",
       "      <td>Normal</td>\n",
       "      <td>156</td>\n",
       "      <td>N</td>\n",
       "      <td>1.0</td>\n",
       "      <td>Flat</td>\n",
       "      <td>1</td>\n",
       "    </tr>\n",
       "    <tr>\n",
       "      <th>2</th>\n",
       "      <td>37</td>\n",
       "      <td>M</td>\n",
       "      <td>ATA</td>\n",
       "      <td>130</td>\n",
       "      <td>283</td>\n",
       "      <td>0</td>\n",
       "      <td>ST</td>\n",
       "      <td>98</td>\n",
       "      <td>N</td>\n",
       "      <td>0.0</td>\n",
       "      <td>Up</td>\n",
       "      <td>0</td>\n",
       "    </tr>\n",
       "    <tr>\n",
       "      <th>3</th>\n",
       "      <td>48</td>\n",
       "      <td>F</td>\n",
       "      <td>ASY</td>\n",
       "      <td>138</td>\n",
       "      <td>214</td>\n",
       "      <td>0</td>\n",
       "      <td>Normal</td>\n",
       "      <td>108</td>\n",
       "      <td>Y</td>\n",
       "      <td>1.5</td>\n",
       "      <td>Flat</td>\n",
       "      <td>1</td>\n",
       "    </tr>\n",
       "    <tr>\n",
       "      <th>4</th>\n",
       "      <td>54</td>\n",
       "      <td>M</td>\n",
       "      <td>NAP</td>\n",
       "      <td>150</td>\n",
       "      <td>195</td>\n",
       "      <td>0</td>\n",
       "      <td>Normal</td>\n",
       "      <td>122</td>\n",
       "      <td>N</td>\n",
       "      <td>0.0</td>\n",
       "      <td>Up</td>\n",
       "      <td>0</td>\n",
       "    </tr>\n",
       "    <tr>\n",
       "      <th>...</th>\n",
       "      <td>...</td>\n",
       "      <td>...</td>\n",
       "      <td>...</td>\n",
       "      <td>...</td>\n",
       "      <td>...</td>\n",
       "      <td>...</td>\n",
       "      <td>...</td>\n",
       "      <td>...</td>\n",
       "      <td>...</td>\n",
       "      <td>...</td>\n",
       "      <td>...</td>\n",
       "      <td>...</td>\n",
       "    </tr>\n",
       "    <tr>\n",
       "      <th>913</th>\n",
       "      <td>45</td>\n",
       "      <td>M</td>\n",
       "      <td>TA</td>\n",
       "      <td>110</td>\n",
       "      <td>264</td>\n",
       "      <td>0</td>\n",
       "      <td>Normal</td>\n",
       "      <td>132</td>\n",
       "      <td>N</td>\n",
       "      <td>1.2</td>\n",
       "      <td>Flat</td>\n",
       "      <td>1</td>\n",
       "    </tr>\n",
       "    <tr>\n",
       "      <th>914</th>\n",
       "      <td>68</td>\n",
       "      <td>M</td>\n",
       "      <td>ASY</td>\n",
       "      <td>144</td>\n",
       "      <td>193</td>\n",
       "      <td>1</td>\n",
       "      <td>Normal</td>\n",
       "      <td>141</td>\n",
       "      <td>N</td>\n",
       "      <td>3.4</td>\n",
       "      <td>Flat</td>\n",
       "      <td>1</td>\n",
       "    </tr>\n",
       "    <tr>\n",
       "      <th>915</th>\n",
       "      <td>57</td>\n",
       "      <td>M</td>\n",
       "      <td>ASY</td>\n",
       "      <td>130</td>\n",
       "      <td>131</td>\n",
       "      <td>0</td>\n",
       "      <td>Normal</td>\n",
       "      <td>115</td>\n",
       "      <td>Y</td>\n",
       "      <td>1.2</td>\n",
       "      <td>Flat</td>\n",
       "      <td>1</td>\n",
       "    </tr>\n",
       "    <tr>\n",
       "      <th>916</th>\n",
       "      <td>57</td>\n",
       "      <td>F</td>\n",
       "      <td>ATA</td>\n",
       "      <td>130</td>\n",
       "      <td>236</td>\n",
       "      <td>0</td>\n",
       "      <td>LVH</td>\n",
       "      <td>174</td>\n",
       "      <td>N</td>\n",
       "      <td>0.0</td>\n",
       "      <td>Flat</td>\n",
       "      <td>1</td>\n",
       "    </tr>\n",
       "    <tr>\n",
       "      <th>917</th>\n",
       "      <td>38</td>\n",
       "      <td>M</td>\n",
       "      <td>NAP</td>\n",
       "      <td>138</td>\n",
       "      <td>175</td>\n",
       "      <td>0</td>\n",
       "      <td>Normal</td>\n",
       "      <td>173</td>\n",
       "      <td>N</td>\n",
       "      <td>0.0</td>\n",
       "      <td>Up</td>\n",
       "      <td>0</td>\n",
       "    </tr>\n",
       "  </tbody>\n",
       "</table>\n",
       "<p>918 rows × 12 columns</p>\n",
       "</div>"
      ],
      "text/plain": [
       "     Age Sex ChestPainType  RestingBP  Cholesterol  FastingBS RestingECG  \\\n",
       "0     40   M           ATA        140          289          0     Normal   \n",
       "1     49   F           NAP        160          180          0     Normal   \n",
       "2     37   M           ATA        130          283          0         ST   \n",
       "3     48   F           ASY        138          214          0     Normal   \n",
       "4     54   M           NAP        150          195          0     Normal   \n",
       "..   ...  ..           ...        ...          ...        ...        ...   \n",
       "913   45   M            TA        110          264          0     Normal   \n",
       "914   68   M           ASY        144          193          1     Normal   \n",
       "915   57   M           ASY        130          131          0     Normal   \n",
       "916   57   F           ATA        130          236          0        LVH   \n",
       "917   38   M           NAP        138          175          0     Normal   \n",
       "\n",
       "     MaxHR ExerciseAngina  Oldpeak ST_Slope  HeartDisease  \n",
       "0      172              N      0.0       Up             0  \n",
       "1      156              N      1.0     Flat             1  \n",
       "2       98              N      0.0       Up             0  \n",
       "3      108              Y      1.5     Flat             1  \n",
       "4      122              N      0.0       Up             0  \n",
       "..     ...            ...      ...      ...           ...  \n",
       "913    132              N      1.2     Flat             1  \n",
       "914    141              N      3.4     Flat             1  \n",
       "915    115              Y      1.2     Flat             1  \n",
       "916    174              N      0.0     Flat             1  \n",
       "917    173              N      0.0       Up             0  \n",
       "\n",
       "[918 rows x 12 columns]"
      ]
     },
     "execution_count": 3,
     "metadata": {},
     "output_type": "execute_result"
    }
   ],
   "source": [
    "data"
   ]
  },
  {
   "cell_type": "code",
   "execution_count": 4,
   "metadata": {},
   "outputs": [
    {
     "name": "stdout",
     "output_type": "stream",
     "text": [
      "<class 'pandas.core.frame.DataFrame'>\n",
      "RangeIndex: 918 entries, 0 to 917\n",
      "Data columns (total 12 columns):\n",
      " #   Column          Non-Null Count  Dtype  \n",
      "---  ------          --------------  -----  \n",
      " 0   Age             918 non-null    int64  \n",
      " 1   Sex             918 non-null    object \n",
      " 2   ChestPainType   918 non-null    object \n",
      " 3   RestingBP       918 non-null    int64  \n",
      " 4   Cholesterol     918 non-null    int64  \n",
      " 5   FastingBS       918 non-null    int64  \n",
      " 6   RestingECG      918 non-null    object \n",
      " 7   MaxHR           918 non-null    int64  \n",
      " 8   ExerciseAngina  918 non-null    object \n",
      " 9   Oldpeak         918 non-null    float64\n",
      " 10  ST_Slope        918 non-null    object \n",
      " 11  HeartDisease    918 non-null    int64  \n",
      "dtypes: float64(1), int64(6), object(5)\n",
      "memory usage: 86.2+ KB\n"
     ]
    }
   ],
   "source": [
    "data.info()"
   ]
  },
  {
   "cell_type": "code",
   "execution_count": 5,
   "metadata": {},
   "outputs": [
    {
     "data": {
      "text/plain": [
       "Age                50\n",
       "Sex                 2\n",
       "ChestPainType       4\n",
       "RestingBP          67\n",
       "Cholesterol       222\n",
       "FastingBS           2\n",
       "RestingECG          3\n",
       "MaxHR             119\n",
       "ExerciseAngina      2\n",
       "Oldpeak            53\n",
       "ST_Slope            3\n",
       "HeartDisease        2\n",
       "dtype: int64"
      ]
     },
     "execution_count": 5,
     "metadata": {},
     "output_type": "execute_result"
    }
   ],
   "source": [
    "data.nunique()"
   ]
  },
  {
   "cell_type": "code",
   "execution_count": 6,
   "metadata": {},
   "outputs": [],
   "source": [
    "data[\"ExerciseAngina\"] = [0 if elem == \"N\" else 1 for elem in data[\"ExerciseAngina\"]]\n",
    "data[\"Sex\"] = [0 if elem == \"M\" else 1 for elem in data[\"Sex\"]]"
   ]
  },
  {
   "cell_type": "code",
   "execution_count": 7,
   "metadata": {},
   "outputs": [],
   "source": [
    "data = pd.get_dummies(data)"
   ]
  },
  {
   "cell_type": "code",
   "execution_count": 8,
   "metadata": {},
   "outputs": [
    {
     "data": {
      "text/html": [
       "<div>\n",
       "<style scoped>\n",
       "    .dataframe tbody tr th:only-of-type {\n",
       "        vertical-align: middle;\n",
       "    }\n",
       "\n",
       "    .dataframe tbody tr th {\n",
       "        vertical-align: top;\n",
       "    }\n",
       "\n",
       "    .dataframe thead th {\n",
       "        text-align: right;\n",
       "    }\n",
       "</style>\n",
       "<table border=\"1\" class=\"dataframe\">\n",
       "  <thead>\n",
       "    <tr style=\"text-align: right;\">\n",
       "      <th></th>\n",
       "      <th>Age</th>\n",
       "      <th>Sex</th>\n",
       "      <th>RestingBP</th>\n",
       "      <th>Cholesterol</th>\n",
       "      <th>FastingBS</th>\n",
       "      <th>MaxHR</th>\n",
       "      <th>ExerciseAngina</th>\n",
       "      <th>Oldpeak</th>\n",
       "      <th>HeartDisease</th>\n",
       "      <th>ChestPainType_ASY</th>\n",
       "      <th>ChestPainType_ATA</th>\n",
       "      <th>ChestPainType_NAP</th>\n",
       "      <th>ChestPainType_TA</th>\n",
       "      <th>RestingECG_LVH</th>\n",
       "      <th>RestingECG_Normal</th>\n",
       "      <th>RestingECG_ST</th>\n",
       "      <th>ST_Slope_Down</th>\n",
       "      <th>ST_Slope_Flat</th>\n",
       "      <th>ST_Slope_Up</th>\n",
       "    </tr>\n",
       "  </thead>\n",
       "  <tbody>\n",
       "    <tr>\n",
       "      <th>0</th>\n",
       "      <td>40</td>\n",
       "      <td>0</td>\n",
       "      <td>140</td>\n",
       "      <td>289</td>\n",
       "      <td>0</td>\n",
       "      <td>172</td>\n",
       "      <td>0</td>\n",
       "      <td>0.0</td>\n",
       "      <td>0</td>\n",
       "      <td>0</td>\n",
       "      <td>1</td>\n",
       "      <td>0</td>\n",
       "      <td>0</td>\n",
       "      <td>0</td>\n",
       "      <td>1</td>\n",
       "      <td>0</td>\n",
       "      <td>0</td>\n",
       "      <td>0</td>\n",
       "      <td>1</td>\n",
       "    </tr>\n",
       "    <tr>\n",
       "      <th>1</th>\n",
       "      <td>49</td>\n",
       "      <td>1</td>\n",
       "      <td>160</td>\n",
       "      <td>180</td>\n",
       "      <td>0</td>\n",
       "      <td>156</td>\n",
       "      <td>0</td>\n",
       "      <td>1.0</td>\n",
       "      <td>1</td>\n",
       "      <td>0</td>\n",
       "      <td>0</td>\n",
       "      <td>1</td>\n",
       "      <td>0</td>\n",
       "      <td>0</td>\n",
       "      <td>1</td>\n",
       "      <td>0</td>\n",
       "      <td>0</td>\n",
       "      <td>1</td>\n",
       "      <td>0</td>\n",
       "    </tr>\n",
       "    <tr>\n",
       "      <th>2</th>\n",
       "      <td>37</td>\n",
       "      <td>0</td>\n",
       "      <td>130</td>\n",
       "      <td>283</td>\n",
       "      <td>0</td>\n",
       "      <td>98</td>\n",
       "      <td>0</td>\n",
       "      <td>0.0</td>\n",
       "      <td>0</td>\n",
       "      <td>0</td>\n",
       "      <td>1</td>\n",
       "      <td>0</td>\n",
       "      <td>0</td>\n",
       "      <td>0</td>\n",
       "      <td>0</td>\n",
       "      <td>1</td>\n",
       "      <td>0</td>\n",
       "      <td>0</td>\n",
       "      <td>1</td>\n",
       "    </tr>\n",
       "    <tr>\n",
       "      <th>3</th>\n",
       "      <td>48</td>\n",
       "      <td>1</td>\n",
       "      <td>138</td>\n",
       "      <td>214</td>\n",
       "      <td>0</td>\n",
       "      <td>108</td>\n",
       "      <td>1</td>\n",
       "      <td>1.5</td>\n",
       "      <td>1</td>\n",
       "      <td>1</td>\n",
       "      <td>0</td>\n",
       "      <td>0</td>\n",
       "      <td>0</td>\n",
       "      <td>0</td>\n",
       "      <td>1</td>\n",
       "      <td>0</td>\n",
       "      <td>0</td>\n",
       "      <td>1</td>\n",
       "      <td>0</td>\n",
       "    </tr>\n",
       "    <tr>\n",
       "      <th>4</th>\n",
       "      <td>54</td>\n",
       "      <td>0</td>\n",
       "      <td>150</td>\n",
       "      <td>195</td>\n",
       "      <td>0</td>\n",
       "      <td>122</td>\n",
       "      <td>0</td>\n",
       "      <td>0.0</td>\n",
       "      <td>0</td>\n",
       "      <td>0</td>\n",
       "      <td>0</td>\n",
       "      <td>1</td>\n",
       "      <td>0</td>\n",
       "      <td>0</td>\n",
       "      <td>1</td>\n",
       "      <td>0</td>\n",
       "      <td>0</td>\n",
       "      <td>0</td>\n",
       "      <td>1</td>\n",
       "    </tr>\n",
       "    <tr>\n",
       "      <th>5</th>\n",
       "      <td>39</td>\n",
       "      <td>0</td>\n",
       "      <td>120</td>\n",
       "      <td>339</td>\n",
       "      <td>0</td>\n",
       "      <td>170</td>\n",
       "      <td>0</td>\n",
       "      <td>0.0</td>\n",
       "      <td>0</td>\n",
       "      <td>0</td>\n",
       "      <td>0</td>\n",
       "      <td>1</td>\n",
       "      <td>0</td>\n",
       "      <td>0</td>\n",
       "      <td>1</td>\n",
       "      <td>0</td>\n",
       "      <td>0</td>\n",
       "      <td>0</td>\n",
       "      <td>1</td>\n",
       "    </tr>\n",
       "    <tr>\n",
       "      <th>6</th>\n",
       "      <td>45</td>\n",
       "      <td>1</td>\n",
       "      <td>130</td>\n",
       "      <td>237</td>\n",
       "      <td>0</td>\n",
       "      <td>170</td>\n",
       "      <td>0</td>\n",
       "      <td>0.0</td>\n",
       "      <td>0</td>\n",
       "      <td>0</td>\n",
       "      <td>1</td>\n",
       "      <td>0</td>\n",
       "      <td>0</td>\n",
       "      <td>0</td>\n",
       "      <td>1</td>\n",
       "      <td>0</td>\n",
       "      <td>0</td>\n",
       "      <td>0</td>\n",
       "      <td>1</td>\n",
       "    </tr>\n",
       "    <tr>\n",
       "      <th>7</th>\n",
       "      <td>54</td>\n",
       "      <td>0</td>\n",
       "      <td>110</td>\n",
       "      <td>208</td>\n",
       "      <td>0</td>\n",
       "      <td>142</td>\n",
       "      <td>0</td>\n",
       "      <td>0.0</td>\n",
       "      <td>0</td>\n",
       "      <td>0</td>\n",
       "      <td>1</td>\n",
       "      <td>0</td>\n",
       "      <td>0</td>\n",
       "      <td>0</td>\n",
       "      <td>1</td>\n",
       "      <td>0</td>\n",
       "      <td>0</td>\n",
       "      <td>0</td>\n",
       "      <td>1</td>\n",
       "    </tr>\n",
       "    <tr>\n",
       "      <th>8</th>\n",
       "      <td>37</td>\n",
       "      <td>0</td>\n",
       "      <td>140</td>\n",
       "      <td>207</td>\n",
       "      <td>0</td>\n",
       "      <td>130</td>\n",
       "      <td>1</td>\n",
       "      <td>1.5</td>\n",
       "      <td>1</td>\n",
       "      <td>1</td>\n",
       "      <td>0</td>\n",
       "      <td>0</td>\n",
       "      <td>0</td>\n",
       "      <td>0</td>\n",
       "      <td>1</td>\n",
       "      <td>0</td>\n",
       "      <td>0</td>\n",
       "      <td>1</td>\n",
       "      <td>0</td>\n",
       "    </tr>\n",
       "    <tr>\n",
       "      <th>9</th>\n",
       "      <td>48</td>\n",
       "      <td>1</td>\n",
       "      <td>120</td>\n",
       "      <td>284</td>\n",
       "      <td>0</td>\n",
       "      <td>120</td>\n",
       "      <td>0</td>\n",
       "      <td>0.0</td>\n",
       "      <td>0</td>\n",
       "      <td>0</td>\n",
       "      <td>1</td>\n",
       "      <td>0</td>\n",
       "      <td>0</td>\n",
       "      <td>0</td>\n",
       "      <td>1</td>\n",
       "      <td>0</td>\n",
       "      <td>0</td>\n",
       "      <td>0</td>\n",
       "      <td>1</td>\n",
       "    </tr>\n",
       "  </tbody>\n",
       "</table>\n",
       "</div>"
      ],
      "text/plain": [
       "   Age  Sex  RestingBP  Cholesterol  FastingBS  MaxHR  ExerciseAngina  \\\n",
       "0   40    0        140          289          0    172               0   \n",
       "1   49    1        160          180          0    156               0   \n",
       "2   37    0        130          283          0     98               0   \n",
       "3   48    1        138          214          0    108               1   \n",
       "4   54    0        150          195          0    122               0   \n",
       "5   39    0        120          339          0    170               0   \n",
       "6   45    1        130          237          0    170               0   \n",
       "7   54    0        110          208          0    142               0   \n",
       "8   37    0        140          207          0    130               1   \n",
       "9   48    1        120          284          0    120               0   \n",
       "\n",
       "   Oldpeak  HeartDisease  ChestPainType_ASY  ChestPainType_ATA  \\\n",
       "0      0.0             0                  0                  1   \n",
       "1      1.0             1                  0                  0   \n",
       "2      0.0             0                  0                  1   \n",
       "3      1.5             1                  1                  0   \n",
       "4      0.0             0                  0                  0   \n",
       "5      0.0             0                  0                  0   \n",
       "6      0.0             0                  0                  1   \n",
       "7      0.0             0                  0                  1   \n",
       "8      1.5             1                  1                  0   \n",
       "9      0.0             0                  0                  1   \n",
       "\n",
       "   ChestPainType_NAP  ChestPainType_TA  RestingECG_LVH  RestingECG_Normal  \\\n",
       "0                  0                 0               0                  1   \n",
       "1                  1                 0               0                  1   \n",
       "2                  0                 0               0                  0   \n",
       "3                  0                 0               0                  1   \n",
       "4                  1                 0               0                  1   \n",
       "5                  1                 0               0                  1   \n",
       "6                  0                 0               0                  1   \n",
       "7                  0                 0               0                  1   \n",
       "8                  0                 0               0                  1   \n",
       "9                  0                 0               0                  1   \n",
       "\n",
       "   RestingECG_ST  ST_Slope_Down  ST_Slope_Flat  ST_Slope_Up  \n",
       "0              0              0              0            1  \n",
       "1              0              0              1            0  \n",
       "2              1              0              0            1  \n",
       "3              0              0              1            0  \n",
       "4              0              0              0            1  \n",
       "5              0              0              0            1  \n",
       "6              0              0              0            1  \n",
       "7              0              0              0            1  \n",
       "8              0              0              1            0  \n",
       "9              0              0              0            1  "
      ]
     },
     "execution_count": 8,
     "metadata": {},
     "output_type": "execute_result"
    }
   ],
   "source": [
    "data.head(10)"
   ]
  },
  {
   "cell_type": "code",
   "execution_count": 9,
   "metadata": {},
   "outputs": [
    {
     "data": {
      "text/plain": [
       "(918, 19)"
      ]
     },
     "execution_count": 9,
     "metadata": {},
     "output_type": "execute_result"
    }
   ],
   "source": [
    "data.shape"
   ]
  },
  {
   "cell_type": "code",
   "execution_count": 10,
   "metadata": {},
   "outputs": [],
   "source": [
    "X = data.drop('HeartDisease', axis=1).to_numpy()\n",
    "y = data['HeartDisease'].to_numpy()"
   ]
  },
  {
   "cell_type": "code",
   "execution_count": 11,
   "metadata": {},
   "outputs": [
    {
     "name": "stdout",
     "output_type": "stream",
     "text": [
      "(918, 18)\n",
      "(918,)\n"
     ]
    }
   ],
   "source": [
    "print(X.shape)\n",
    "print(y.shape)"
   ]
  },
  {
   "cell_type": "code",
   "execution_count": 12,
   "metadata": {},
   "outputs": [],
   "source": [
    "X = normalize(X, norm=\"max\", axis=0)"
   ]
  },
  {
   "cell_type": "markdown",
   "metadata": {},
   "source": [
    "Разбиваем на обучающую и тестовую выборки"
   ]
  },
  {
   "cell_type": "code",
   "execution_count": 13,
   "metadata": {},
   "outputs": [],
   "source": [
    "X_train, X_test, y_train, y_test = train_test_split(X, y, train_size=0.8, random_state=5, shuffle=True)"
   ]
  },
  {
   "cell_type": "code",
   "execution_count": 14,
   "metadata": {},
   "outputs": [
    {
     "name": "stdout",
     "output_type": "stream",
     "text": [
      "X_train shape:  (734, 18)\n",
      "y_train shape:  (734,)\n",
      "X_test shape:  (184, 18)\n",
      "y_test shape:  (184,)\n"
     ]
    }
   ],
   "source": [
    "print(\"X_train shape: \", X_train.shape)\n",
    "print(\"y_train shape: \", y_train.shape)\n",
    "print(\"X_test shape: \", X_test.shape)\n",
    "print(\"y_test shape: \", y_test.shape)"
   ]
  },
  {
   "cell_type": "markdown",
   "metadata": {},
   "source": [
    "### Logistic Regression (логистическая регрессия)"
   ]
  },
  {
   "cell_type": "code",
   "execution_count": 15,
   "metadata": {},
   "outputs": [],
   "source": [
    "class Linear():\n",
    "    def __init__(self, num_in, num_out): # num_in - число входных сигналов, num_out - число сигналов на выходе\n",
    "        self.W = np.random.normal(0, 1.0 / np.sqrt(num_in), (num_out, num_in)) # Нормальное распределение с центром в 0, и отклонением 1.0 / np.sqrt(num_in)\n",
    "        self.b = np.zeros((1, num_out))                                        # Чтобы у всех сигналов были с одинаковыми характеристиками Сред = 0, Отклонение ~ 1\n",
    "        self.dW = np.zeros((num_out, num_in))\n",
    "        self.db = np.zeros((1, num_out))\n",
    "\n",
    "    # Выполнение вычисления (z = x * w_T + b)\n",
    "    def forward(self, x):\n",
    "        self.x = x\n",
    "        return np.dot(x, self.W.T) + self.b\n",
    "\n",
    "    def backward(self, dz):\n",
    "        dx = np.dot(dz, self.W)\n",
    "        dW = np.dot(dz.T, self.x)\n",
    "        db = dz.sum(axis=0)\n",
    "        self.dW = dW\n",
    "        self.db = db\n",
    "        return dx\n",
    "\n",
    "    def update(self, learning_rate):\n",
    "        self.W -= learning_rate * self.dW\n",
    "        self.b -= learning_rate * self.db"
   ]
  },
  {
   "cell_type": "code",
   "execution_count": 16,
   "metadata": {},
   "outputs": [],
   "source": [
    "# Класс сети\n",
    "class Network():\n",
    "    def __init__(self, loss_function):\n",
    "        self.layers = [] # Инициализация слоёв\n",
    "        self.loss_function = loss_function()\n",
    "\n",
    "    # Добавление слоя в сеть\n",
    "    def add(self, layer):\n",
    "        self.layers.append(layer)\n",
    "\n",
    "    # Проход по всем слоям\n",
    "    def forward(self, x):\n",
    "        for layer in self.layers:\n",
    "            x = layer.forward(x)\n",
    "        return x\n",
    "\n",
    "    # Обратный проход по всем слоям\n",
    "    def backward(self, z):\n",
    "        for layer in self.layers[::-1]:\n",
    "            z = layer.backward(z)\n",
    "        return z\n",
    "\n",
    "    # Вычисление функции потерь\n",
    "    def loss_forward(self, x, y):\n",
    "        p = self.forward(x)\n",
    "        return self.loss_function.forward(p, y)\n",
    "\n",
    "    def loss_backward(self, l):\n",
    "        dp = None\n",
    "        dp = self.loss_function.backward(l)\n",
    "        return self.backward(dp)\n",
    "    \n",
    "    # Обновление для всех слоёв, у которых есть 'update'\n",
    "    def update(self, learning_rate):\n",
    "        for layer in self.layers:\n",
    "            if 'update' in layer.__dir__():\n",
    "                layer.update(learning_rate)\n",
    "\n",
    "    def train_epoch(self, x, y, batch_size=10, lr=0.001):\n",
    "        for i in range(0, len(x), batch_size):\n",
    "            x_batch = x[i:i+batch_size]\n",
    "            y_batch = y[i:i+batch_size]\n",
    "            loss = self.loss_forward(x_batch, y_batch)\n",
    "            dx = self.loss_backward(loss)\n",
    "            self.update(lr)"
   ]
  },
  {
   "cell_type": "markdown",
   "metadata": {},
   "source": [
    "Функция потерь"
   ]
  },
  {
   "cell_type": "code",
   "execution_count": 17,
   "metadata": {},
   "outputs": [],
   "source": [
    "# Функция потерь перекрёстной энтропии\n",
    "class CrossEntropyLoss():\n",
    "    def forward(self,p,y):\n",
    "        self.p = p\n",
    "        y = y.reshape((y.shape[0], 1))\n",
    "        self.y = y\n",
    "        result = y * np.log(p) + (1 - y) * np.log(1 - p)\n",
    "        np.log\n",
    "        return -np.mean(result)\n",
    "    \n",
    "    def backward(self,loss):\n",
    "        result = (self.p - self.y) / (self.p * (1 - self.p))\n",
    "        return result / self.p.shape[0]"
   ]
  },
  {
   "cell_type": "markdown",
   "metadata": {},
   "source": [
    "Логистическая функция (сигмоида)"
   ]
  },
  {
   "cell_type": "code",
   "execution_count": 18,
   "metadata": {},
   "outputs": [],
   "source": [
    "# Функция сигмоиды\n",
    "class Sigmoid():\n",
    "    def forward(self, x):\n",
    "        self.y = 1.0 / (1 + np.exp(-x))\n",
    "        return self.y\n",
    "\n",
    "    def backward(self, dy):\n",
    "        return (1.0 - self.y**2) * dy"
   ]
  },
  {
   "cell_type": "markdown",
   "metadata": {},
   "source": [
    "Классификатор логистической регрессии"
   ]
  },
  {
   "cell_type": "code",
   "execution_count": 19,
   "metadata": {},
   "outputs": [],
   "source": [
    "# Logistic regression\n",
    "class LogisticRegression(BaseEstimator, ClassifierMixin):\n",
    "    def __init__(self, epochs=1, batch_size=15, learning_rate=0.01):\n",
    "        self.epochs = epochs\n",
    "        self.batch_size = batch_size\n",
    "        self.learning_rate = learning_rate\n",
    "        self.Network = Network(CrossEntropyLoss)\n",
    "        self.Network.add(Linear(num_in=18, num_out=1))\n",
    "        self.Network.add(Sigmoid())\n",
    "    \n",
    "    def fit(self, X, y):\n",
    "        # Проверяет X и y на одинаковую длину\n",
    "        # Принудительно делает X двумерным, y - одномерным\n",
    "        X, y = check_X_y(X, y)\n",
    "        self.X = X\n",
    "        self.y = y\n",
    "        for epoch in range(self.epochs):\n",
    "            self.Network.train_epoch(X, y, self.batch_size, self.learning_rate)\n",
    "        return self\n",
    "\n",
    "    def predict(self, X):\n",
    "        check_is_fitted(self, ['X', 'y'])\n",
    "        prediction = self.Network.forward(X)\n",
    "        result = np.where(prediction < 0.5, 0, 1)\n",
    "        return result\n",
    "        "
   ]
  },
  {
   "cell_type": "code",
   "execution_count": 20,
   "metadata": {},
   "outputs": [],
   "source": [
    "def learning_information(learning_model, X, y):\n",
    "    y_prediction = learning_model.predict(X)\n",
    "    print('Accuracy score: ', accuracy_score(y, y_prediction))\n",
    "    print('Recall score: ', recall_score(y, y_prediction))\n",
    "    print('Precision score: ', precision_score(y, y_prediction))\n",
    "    print('ROC AUC score: ', roc_auc_score(y, y_prediction))\n",
    "\n",
    "    print('Матрица ошибок: ')\n",
    "    conf_matr = confusion_matrix(y, y_prediction)\n",
    "    display = ConfusionMatrixDisplay(confusion_matrix=conf_matr)\n",
    "    display.plot()\n",
    "    plt.show()\n",
    "\n",
    "    print('График ROC-кривой: ')\n",
    "    display = RocCurveDisplay.from_predictions(y_true=y, y_pred=y_prediction, name=\"ROC-кривая\")\n"
   ]
  },
  {
   "cell_type": "code",
   "execution_count": 21,
   "metadata": {},
   "outputs": [
    {
     "name": "stdout",
     "output_type": "stream",
     "text": [
      "Лучший оценщик:  Pipeline(steps=[('Logistic_regression',\n",
      "                 LogisticRegression(epochs=15, learning_rate=0.05))])\n"
     ]
    }
   ],
   "source": [
    "log_regression = GridSearchCV(Pipeline([(\"Logistic_regression\", LogisticRegression())]),\n",
    "    {\"Logistic_regression__epochs\" : [1, 5, 10, 15, 20],\n",
    "    \"Logistic_regression__batch_size\" : [5, 10, 15, 20, 25],\n",
    "    \"Logistic_regression__learning_rate\" : [0.01, 0.05, 0.25, 0.5, 0.1]})\n",
    "\n",
    "log_regression.fit(X_train, y_train)\n",
    "log_regression_best = log_regression.best_estimator_\n",
    "print('Лучший оценщик: ', log_regression_best)"
   ]
  },
  {
   "cell_type": "code",
   "execution_count": 22,
   "metadata": {},
   "outputs": [
    {
     "name": "stdout",
     "output_type": "stream",
     "text": [
      "Accuracy score:  0.907608695652174\n",
      "Recall score:  0.9099099099099099\n",
      "Precision score:  0.9351851851851852\n",
      "ROC AUC score:  0.907009749475503\n",
      "Матрица ошибок: \n"
     ]
    },
    {
     "data": {
      "image/png": "[encoded data removed]",
      "text/plain": [
       "<Figure size 432x288 with 2 Axes>"
      ]
     },
     "metadata": {
      "needs_background": "light"
     },
     "output_type": "display_data"
    },
    {
     "name": "stdout",
     "output_type": "stream",
     "text": [
      "График ROC-кривой: \n"
     ]
    },
    {
     "data": {
      "image/png": "[encoded data removed]",
      "text/plain": [
       "<Figure size 432x288 with 1 Axes>"
      ]
     },
     "metadata": {
      "needs_background": "light"
     },
     "output_type": "display_data"
    }
   ],
   "source": [
    "learning_information(log_regression_best, X_test, y_test)"
   ]
  },
  {
   "cell_type": "markdown",
   "metadata": {},
   "source": [
    "#### Коробочное решение"
   ]
  },
  {
   "cell_type": "code",
   "execution_count": 42,
   "metadata": {},
   "outputs": [
    {
     "name": "stdout",
     "output_type": "stream",
     "text": [
      "Лучший оценщик:  Pipeline(steps=[('SKL_Logistic_regression',\n",
      "                 LogisticRegression(batch_size=25, epochs=20,\n",
      "                                    learning_rate=0.05))])\n"
     ]
    }
   ],
   "source": [
    "skl_log_regression = GridSearchCV(Pipeline([('SKL_Logistic_regression', LogisticRegression())]),\n",
    "    {'SKL_Logistic_regression__epochs' : [1, 5, 10, 15, 20],\n",
    "    'SKL_Logistic_regression__batch_size' : [5, 10, 15, 20, 25],\n",
    "    'SKL_Logistic_regression__learning_rate' : [0.01, 0.05, 0.25, 0.5, 0.1]})\n",
    "\n",
    "skl_log_regression.fit(X_train, y_train)\n",
    "skl_log_reg_best = skl_log_regression.best_estimator_\n",
    "print('Лучший оценщик: ', skl_log_reg_best)"
   ]
  },
  {
   "cell_type": "code",
   "execution_count": 43,
   "metadata": {},
   "outputs": [
    {
     "name": "stdout",
     "output_type": "stream",
     "text": [
      "Accuracy score:  0.9021739130434783\n",
      "Recall score:  0.9009009009009009\n",
      "Precision score:  0.9345794392523364\n",
      "ROC AUC score:  0.9025052449709985\n",
      "Матрица ошибок: \n"
     ]
    },
    {
     "data": {
      "image/png": "[encoded data removed]",
      "text/plain": [
       "<Figure size 432x288 with 2 Axes>"
      ]
     },
     "metadata": {
      "needs_background": "light"
     },
     "output_type": "display_data"
    },
    {
     "name": "stdout",
     "output_type": "stream",
     "text": [
      "График ROC-кривой: \n"
     ]
    },
    {
     "data": {
      "image/png": "[encoded data removed]",
      "text/plain": [
       "<Figure size 432x288 with 1 Axes>"
      ]
     },
     "metadata": {
      "needs_background": "light"
     },
     "output_type": "display_data"
    }
   ],
   "source": [
    "learning_information(skl_log_reg_best, X_test, y_test)"
   ]
  },
  {
   "cell_type": "markdown",
   "metadata": {},
   "source": [
    "#### Сериализация"
   ]
  },
  {
   "cell_type": "code",
   "execution_count": 25,
   "metadata": {},
   "outputs": [],
   "source": [
    "file = open('models/my_logistic_regression.pkl', 'wb')\n",
    "pickle.dump(log_regression_best, file, pickle.HIGHEST_PROTOCOL)\n",
    "file.close()"
   ]
  },
  {
   "cell_type": "markdown",
   "metadata": {},
   "source": [
    "### SVM (support vector machine)"
   ]
  },
  {
   "cell_type": "code",
   "execution_count": 26,
   "metadata": {},
   "outputs": [],
   "source": [
    "class SVM(BaseEstimator, ClassifierMixin):\n",
    "    def __init__(self, epochs=1, batch_size=15, lr=0.01, alpha=0.001):\n",
    "        self.epochs = epochs\n",
    "        self.batch_size = batch_size\n",
    "        self.lr = lr\n",
    "        self.alpha = alpha\n",
    "    \n",
    "    def fit(self, X, y):\n",
    "        self.W = np.random.normal(0, 1, (X.shape[1]+1,))\n",
    "        y = y * 2 - 1\n",
    "        X = np.concatenate((X, np.ones((X.shape[0],1))), axis=1)\n",
    "        for epoch in range(self.epochs):\n",
    "            for i in range(self.batch_size, len(X), self.batch_size):\n",
    "                X_batch = X[i:i+self.batch_size]\n",
    "                y_batch = y[i:i+self.batch_size]\n",
    "                gradient = 2 * self.alpha * self.W\n",
    "                for i, x in enumerate(X_batch):\n",
    "                    if 1 - x.dot(self.W) * y_batch[i] > 0:\n",
    "                        gradient -= x * y_batch[i]\n",
    "                self.W -= self.lr * gradient\n",
    "        return self\n",
    "\n",
    "    def predict(self, data):\n",
    "        return (np.sign(np.concatenate((data, np.ones((data.shape[0],1))), axis=1).dot(self.W)) + 1) / 2"
   ]
  },
  {
   "cell_type": "code",
   "execution_count": 27,
   "metadata": {},
   "outputs": [
    {
     "name": "stdout",
     "output_type": "stream",
     "text": [
      "Лучший оценщик:  Pipeline(steps=[('SVM', SVM(alpha=0.01, batch_size=5, epochs=10))])\n"
     ]
    }
   ],
   "source": [
    "svm = GridSearchCV(Pipeline([(\"SVM\", SVM())]),\n",
    "    {'SVM__epochs' : [1, 5, 10, 15, 20],\n",
    "    'SVM__batch_size' : [5, 10, 15, 20, 25],\n",
    "    'SVM__lr' : [0.01, 0.05, 0.25, 0.5, 0.1],\n",
    "    'SVM__alpha' : [0.1, 0.01, 0.001, 0.0001, 0.00001]})\n",
    "\n",
    "svm.fit(X_train, y_train)\n",
    "svm_best = svm.best_estimator_\n",
    "print('Лучший оценщик: ', svm_best)"
   ]
  },
  {
   "cell_type": "code",
   "execution_count": 28,
   "metadata": {},
   "outputs": [
    {
     "name": "stdout",
     "output_type": "stream",
     "text": [
      "Accuracy score:  0.8967391304347826\n",
      "Recall score:  0.8828828828828829\n",
      "Precision score:  0.9423076923076923\n",
      "ROC AUC score:  0.9003455510304825\n",
      "Матрица ошибок: \n"
     ]
    },
    {
     "data": {
      "image/png": "[encoded data removed]",
      "text/plain": [
       "<Figure size 432x288 with 2 Axes>"
      ]
     },
     "metadata": {
      "needs_background": "light"
     },
     "output_type": "display_data"
    },
    {
     "name": "stdout",
     "output_type": "stream",
     "text": [
      "График ROC-кривой: \n"
     ]
    },
    {
     "data": {
      "image/png": "[encoded data removed]",
      "text/plain": [
       "<Figure size 432x288 with 1 Axes>"
      ]
     },
     "metadata": {
      "needs_background": "light"
     },
     "output_type": "display_data"
    }
   ],
   "source": [
    "learning_information(svm_best, X_test, y_test)"
   ]
  },
  {
   "cell_type": "markdown",
   "metadata": {},
   "source": [
    "#### Коробочное решение SVM"
   ]
  },
  {
   "cell_type": "code",
   "execution_count": 29,
   "metadata": {},
   "outputs": [
    {
     "name": "stdout",
     "output_type": "stream",
     "text": [
      "Лучший оценщик:  Pipeline(steps=[('SKL_SVC', SVC(kernel='linear'))])\n"
     ]
    }
   ],
   "source": [
    "skl_svm = GridSearchCV(Pipeline([('SKL_SVC', SVC())]),\n",
    "    {'SKL_SVC__kernel' : ['linear', 'poly']})\n",
    "\n",
    "skl_svm.fit(X_train, y_train)\n",
    "skl_svm_best = skl_svm.best_estimator_\n",
    "print('Лучший оценщик: ', skl_svm_best)"
   ]
  },
  {
   "cell_type": "code",
   "execution_count": 30,
   "metadata": {},
   "outputs": [
    {
     "name": "stdout",
     "output_type": "stream",
     "text": [
      "Accuracy score:  0.9130434782608695\n",
      "Recall score:  0.9099099099099099\n",
      "Precision score:  0.9439252336448598\n",
      "ROC AUC score:  0.913859064543996\n",
      "Матрица ошибок: \n"
     ]
    },
    {
     "data": {
      "image/png": "[encoded data removed]",
      "text/plain": [
       "<Figure size 432x288 with 2 Axes>"
      ]
     },
     "metadata": {
      "needs_background": "light"
     },
     "output_type": "display_data"
    },
    {
     "name": "stdout",
     "output_type": "stream",
     "text": [
      "График ROC-кривой: \n"
     ]
    },
    {
     "data": {
      "image/png": "[encoded data removed]",
      "text/plain": [
       "<Figure size 432x288 with 1 Axes>"
      ]
     },
     "metadata": {
      "needs_background": "light"
     },
     "output_type": "display_data"
    }
   ],
   "source": [
    "learning_information(skl_svm_best, X_test, y_test)"
   ]
  },
  {
   "cell_type": "markdown",
   "metadata": {},
   "source": [
    "#### Сериализация"
   ]
  },
  {
   "cell_type": "code",
   "execution_count": 31,
   "metadata": {},
   "outputs": [],
   "source": [
    "file = open('models/my_svm.pkl', 'wb')\n",
    "pickle.dump(svm_best, file, pickle.HIGHEST_PROTOCOL)\n",
    "file.close()"
   ]
  },
  {
   "cell_type": "markdown",
   "metadata": {},
   "source": [
    "### KNN"
   ]
  },
  {
   "cell_type": "code",
   "execution_count": 32,
   "metadata": {},
   "outputs": [],
   "source": [
    "class KNN(BaseEstimator, ClassifierMixin):\n",
    "    def __init__(self, k=1):\n",
    "        self.k = k # Количество ближайших точек\n",
    "\n",
    "    def fit(self, X, y):\n",
    "        X, y = check_X_y(X, y)\n",
    "        self.X = X\n",
    "        self.y = y\n",
    "        return self\n",
    "\n",
    "    def predict(self, X):\n",
    "        # Проверяет, что ранее был вызван fit\n",
    "        check_is_fitted(self, ['X', 'y'])\n",
    "        predictions = np.ndarray((X.shape[0],))\n",
    "        for (num, elem) in enumerate(X):\n",
    "            distances = euclidean_distances([elem], self.X)[0]\n",
    "            neighbors = np.argpartition(distances, kth=self.k-1) # Косвенное разбиение\n",
    "            k_nearest_neighbors = neighbors[:self.k] # k ближайших соседей\n",
    "            # Различные метки и количество для каждой метки\n",
    "            labels, counts = np.unique(self.y[k_nearest_neighbors], return_counts=True)\n",
    "            predictions[num] = labels[counts.argmax()] # Наиболее вероянтая метка\n",
    "        return predictions"
   ]
  },
  {
   "cell_type": "code",
   "execution_count": 33,
   "metadata": {},
   "outputs": [
    {
     "name": "stdout",
     "output_type": "stream",
     "text": [
      "Лучший оценщик:  Pipeline(steps=[('KNN', KNN(k=20))])\n"
     ]
    }
   ],
   "source": [
    "k_nearest_neighbours = GridSearchCV(Pipeline([('KNN', KNN())]),\n",
    "    {'KNN__k' : [1, 3, 5, 7, 9, 11, 15, 20, 30]})\n",
    "k_nearest_neighbours.fit(X_train, y_train)\n",
    "k_nearest_neighbours_best = k_nearest_neighbours.best_estimator_\n",
    "print('Лучший оценщик: ', k_nearest_neighbours_best)"
   ]
  },
  {
   "cell_type": "code",
   "execution_count": 34,
   "metadata": {},
   "outputs": [
    {
     "name": "stdout",
     "output_type": "stream",
     "text": [
      "Accuracy score:  0.8695652173913043\n",
      "Recall score:  0.8558558558558559\n",
      "Precision score:  0.9223300970873787\n",
      "ROC AUC score:  0.8731334073799828\n",
      "Матрица ошибок: \n"
     ]
    },
    {
     "data": {
      "image/png": "[encoded data removed]",
      "text/plain": [
       "<Figure size 432x288 with 2 Axes>"
      ]
     },
     "metadata": {
      "needs_background": "light"
     },
     "output_type": "display_data"
    },
    {
     "name": "stdout",
     "output_type": "stream",
     "text": [
      "График ROC-кривой: \n"
     ]
    },
    {
     "data": {
      "image/png": "[encoded data removed]",
      "text/plain": [
       "<Figure size 432x288 with 1 Axes>"
      ]
     },
     "metadata": {
      "needs_background": "light"
     },
     "output_type": "display_data"
    }
   ],
   "source": [
    "learning_information(k_nearest_neighbours_best, X_test, y_test)"
   ]
  },
  {
   "cell_type": "markdown",
   "metadata": {},
   "source": [
    "#### Коробочное решение"
   ]
  },
  {
   "cell_type": "code",
   "execution_count": 35,
   "metadata": {},
   "outputs": [
    {
     "name": "stdout",
     "output_type": "stream",
     "text": [
      "Лучший оценщик:  Pipeline(steps=[('SKL_KNN', KNeighborsClassifier(n_neighbors=20))])\n"
     ]
    }
   ],
   "source": [
    "skl_knn = GridSearchCV(Pipeline([('SKL_KNN', KNeighborsClassifier())]),\n",
    "    {'SKL_KNN__n_neighbors' : [1, 3, 5, 7, 9, 11, 15, 20, 30]})\n",
    "\n",
    "skl_knn.fit(X_train, y_train)\n",
    "skl_knn_best = skl_knn.best_estimator_\n",
    "print('Лучший оценщик: ', skl_knn_best)"
   ]
  },
  {
   "cell_type": "code",
   "execution_count": 36,
   "metadata": {},
   "outputs": [
    {
     "name": "stdout",
     "output_type": "stream",
     "text": [
      "Accuracy score:  0.8695652173913043\n",
      "Recall score:  0.8558558558558559\n",
      "Precision score:  0.9223300970873787\n",
      "ROC AUC score:  0.8731334073799828\n",
      "Матрица ошибок: \n"
     ]
    },
    {
     "data": {
      "image/png": "[encoded data removed]",
      "text/plain": [
       "<Figure size 432x288 with 2 Axes>"
      ]
     },
     "metadata": {
      "needs_background": "light"
     },
     "output_type": "display_data"
    },
    {
     "name": "stdout",
     "output_type": "stream",
     "text": [
      "График ROC-кривой: \n"
     ]
    },
    {
     "data": {
      "image/png": "[encoded data removed]",
      "text/plain": [
       "<Figure size 432x288 with 1 Axes>"
      ]
     },
     "metadata": {
      "needs_background": "light"
     },
     "output_type": "display_data"
    }
   ],
   "source": [
    "learning_information(skl_knn_best, X_test, y_test)"
   ]
  },
  {
   "cell_type": "markdown",
   "metadata": {},
   "source": [
    "#### Сериализация"
   ]
  },
  {
   "cell_type": "code",
   "execution_count": 37,
   "metadata": {},
   "outputs": [],
   "source": [
    "file = open('models/my_knn.pkl', 'wb')\n",
    "pickle.dump(k_nearest_neighbours_best, file, pickle.HIGHEST_PROTOCOL)\n",
    "file.close()"
   ]
  },
  {
   "cell_type": "markdown",
   "metadata": {},
   "source": [
    "### NaiveBayes"
   ]
  },
  {
   "cell_type": "code",
   "execution_count": 38,
   "metadata": {},
   "outputs": [],
   "source": [
    "class NaiveBayes(BaseEstimator, ClassifierMixin):\n",
    "    def __init__(self):\n",
    "        pass\n",
    "\n",
    "    # Нормальное Гауссово распределение\n",
    "    def normal_gauss(self, x, mu, sigma): # mu - математическое ожидание, sigma - стандартное отклонение\n",
    "        # return (np.exp(-(x - mu)**2 / (2 * sigma**2))) / np.float32(sigma * np.sqrt(2 * np.pi))\n",
    "        return (np.exp(-((x - mu) / sigma)**2 / 2)) / np.float32(sigma * np.sqrt(2 * np.pi))\n",
    "\n",
    "    def fit(self, X, y):\n",
    "        X, y = check_X_y(X, y)\n",
    "        self.X = X\n",
    "        self.y = y\n",
    "        # Различные метки и количество для каждой метки\n",
    "        labels, counts = np.unique(self.y, return_counts=True)\n",
    "        self.standard_deviations = np.array([self.X[self.y == label].std(axis=0) for label in labels])\n",
    "        self.means = np.array([self.X[self.y == label].mean(axis=0) for label in labels])\n",
    "        self.y_pred = np.array([count / self.y.shape[0] for count in counts])\n",
    "        self.labels = labels\n",
    "        return self\n",
    "         \n",
    "    def predict(self, X):\n",
    "        check_is_fitted(self, ['X', 'y'])\n",
    "        result = np.ndarray(X.shape[0])\n",
    "        for (num_x, x) in enumerate(X):\n",
    "            predictions = np.array(self.y_pred)\n",
    "            for (num_label, label) in enumerate(self.labels):\n",
    "                predictions[num_label] *= np.prod(np.array([self.normal_gauss(x[i], self.means[num_label][i], self.standard_deviations[num_label][i]) for i in range(X.shape[1])]))\n",
    "            result[num_x] = np.argmax(predictions)\n",
    "        return result\n"
   ]
  },
  {
   "cell_type": "code",
   "execution_count": 39,
   "metadata": {},
   "outputs": [
    {
     "name": "stdout",
     "output_type": "stream",
     "text": [
      "Accuracy score:  0.8858695652173914\n",
      "Recall score:  0.8648648648648649\n",
      "Precision score:  0.9411764705882353\n",
      "ROC AUC score:  0.8913365420214736\n",
      "Матрица ошибок: \n"
     ]
    },
    {
     "data": {
      "image/png": "[encoded data removed]",
      "text/plain": [
       "<Figure size 432x288 with 2 Axes>"
      ]
     },
     "metadata": {
      "needs_background": "light"
     },
     "output_type": "display_data"
    },
    {
     "name": "stdout",
     "output_type": "stream",
     "text": [
      "График ROC-кривой: \n"
     ]
    },
    {
     "data": {
      "image/png": "[encoded data removed]",
      "text/plain": [
       "<Figure size 432x288 with 1 Axes>"
      ]
     },
     "metadata": {
      "needs_background": "light"
     },
     "output_type": "display_data"
    }
   ],
   "source": [
    "naive_bayes = Pipeline([(\"NB\", NaiveBayes())])\n",
    "naive_bayes.fit(X_train, y_train)\n",
    "learning_information(naive_bayes, X_test, y_test)"
   ]
  },
  {
   "cell_type": "markdown",
   "metadata": {},
   "source": [
    "#### Коробочное решение"
   ]
  },
  {
   "cell_type": "code",
   "execution_count": 40,
   "metadata": {},
   "outputs": [
    {
     "name": "stdout",
     "output_type": "stream",
     "text": [
      "Accuracy score:  0.8858695652173914\n",
      "Recall score:  0.8648648648648649\n",
      "Precision score:  0.9411764705882353\n",
      "ROC AUC score:  0.8913365420214736\n",
      "Матрица ошибок: \n"
     ]
    },
    {
     "data": {
      "image/png": "[encoded data removed]",
      "text/plain": [
       "<Figure size 432x288 with 2 Axes>"
      ]
     },
     "metadata": {
      "needs_background": "light"
     },
     "output_type": "display_data"
    },
    {
     "name": "stdout",
     "output_type": "stream",
     "text": [
      "График ROC-кривой: \n"
     ]
    },
    {
     "data": {
      "image/png": "[encoded data removed]",
      "text/plain": [
       "<Figure size 432x288 with 1 Axes>"
      ]
     },
     "metadata": {
      "needs_background": "light"
     },
     "output_type": "display_data"
    }
   ],
   "source": [
    "skl_naive_bayes = Pipeline([(\"SKL_Naive_Bayes\", GaussianNB())])\n",
    "skl_naive_bayes.fit(X_train, y_train)\n",
    "learning_information(skl_naive_bayes, X_test, y_test)"
   ]
  },
  {
   "cell_type": "markdown",
   "metadata": {},
   "source": [
    "#### Сериализация"
   ]
  },
  {
   "cell_type": "code",
   "execution_count": 41,
   "metadata": {},
   "outputs": [],
   "source": [
    "file = open('models/my_naive_bayes.pkl', 'wb')\n",
    "pickle.dump(naive_bayes, file, pickle.HIGHEST_PROTOCOL)\n",
    "file.close()"
   ]
  }
 ],
 "metadata": {
  "interpreter": {
   "hash": "916dbcbb3f70747c44a77c7bcd40155683ae19c65e1c03b4aa3499c5328201f1"
  },
  "kernelspec": {
   "display_name": "Python 3.8.10 64-bit",
   "language": "python",
   "name": "python3"
  },
  "language_info": {
   "codemirror_mode": {
    "name": "ipython",
    "version": 3
   },
   "file_extension": ".py",
   "mimetype": "text/x-python",
   "name": "python",
   "nbconvert_exporter": "python",
   "pygments_lexer": "ipython3",
   "version": "3.8.10"
  },
  "orig_nbformat": 4
 },
 "nbformat": 4,
 "nbformat_minor": 2
}
